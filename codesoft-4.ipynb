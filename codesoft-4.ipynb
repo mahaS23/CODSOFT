{
 "cells": [
  {
   "cell_type": "code",
   "execution_count": 1,
   "id": "717c6211",
   "metadata": {
    "_cell_guid": "b1076dfc-b9ad-4769-8c92-a6c4dae69d19",
    "_uuid": "8f2839f25d086af736a60e9eeb907d3b93b6e0e5",
    "execution": {
     "iopub.execute_input": "2024-03-04T15:22:50.841208Z",
     "iopub.status.busy": "2024-03-04T15:22:50.840399Z",
     "iopub.status.idle": "2024-03-04T15:22:51.801423Z",
     "shell.execute_reply": "2024-03-04T15:22:51.800126Z"
    },
    "papermill": {
     "duration": 0.97858,
     "end_time": "2024-03-04T15:22:51.804105",
     "exception": false,
     "start_time": "2024-03-04T15:22:50.825525",
     "status": "completed"
    },
    "tags": []
   },
   "outputs": [
    {
     "name": "stdout",
     "output_type": "stream",
     "text": [
      "/kaggle/input/advertising-dataset/advertising.csv\n"
     ]
    }
   ],
   "source": [
    "# This Python 3 environment comes with many helpful analytics libraries installed\n",
    "# It is defined by the kaggle/python Docker image: https://github.com/kaggle/docker-python\n",
    "# For example, here's several helpful packages to load\n",
    "\n",
    "import numpy as np # linear algebra\n",
    "import pandas as pd # data processing, CSV file I/O (e.g. pd.read_csv)\n",
    "\n",
    "# Input data files are available in the read-only \"../input/\" directory\n",
    "# For example, running this (by clicking run or pressing Shift+Enter) will list all files under the input directory\n",
    "\n",
    "import os\n",
    "for dirname, _, filenames in os.walk('/kaggle/input'):\n",
    "    for filename in filenames:\n",
    "        print(os.path.join(dirname, filename))\n",
    "\n",
    "# You can write up to 20GB to the current directory (/kaggle/working/) that gets preserved as output when you create a version using \"Save & Run All\" \n",
    "# You can also write temporary files to /kaggle/temp/, but they won't be saved outside of the current session"
   ]
  },
  {
   "cell_type": "markdown",
   "id": "f80ce961",
   "metadata": {
    "papermill": {
     "duration": 0.010864,
     "end_time": "2024-03-04T15:22:51.826504",
     "exception": false,
     "start_time": "2024-03-04T15:22:51.815640",
     "status": "completed"
    },
    "tags": []
   },
   "source": [
    "**Import Necessary Libraries**"
   ]
  },
  {
   "cell_type": "code",
   "execution_count": 2,
   "id": "e80ea7e1",
   "metadata": {
    "execution": {
     "iopub.execute_input": "2024-03-04T15:22:51.850724Z",
     "iopub.status.busy": "2024-03-04T15:22:51.850194Z",
     "iopub.status.idle": "2024-03-04T15:22:53.753705Z",
     "shell.execute_reply": "2024-03-04T15:22:53.752535Z"
    },
    "papermill": {
     "duration": 1.918908,
     "end_time": "2024-03-04T15:22:53.756577",
     "exception": false,
     "start_time": "2024-03-04T15:22:51.837669",
     "status": "completed"
    },
    "tags": []
   },
   "outputs": [],
   "source": [
    "import pandas as pd \n",
    "import numpy as np \n",
    "import seaborn as sns\n",
    "import matplotlib.pyplot as plt\n",
    "from sklearn.model_selection import train_test_split\n",
    "from sklearn.linear_model import LinearRegression"
   ]
  },
  {
   "cell_type": "markdown",
   "id": "a820d8eb",
   "metadata": {
    "papermill": {
     "duration": 0.011004,
     "end_time": "2024-03-04T15:22:53.779072",
     "exception": false,
     "start_time": "2024-03-04T15:22:53.768068",
     "status": "completed"
    },
    "tags": []
   },
   "source": [
    "**Loading The Dataset**"
   ]
  },
  {
   "cell_type": "code",
   "execution_count": 3,
   "id": "2abcc0f8",
   "metadata": {
    "execution": {
     "iopub.execute_input": "2024-03-04T15:22:53.803291Z",
     "iopub.status.busy": "2024-03-04T15:22:53.802846Z",
     "iopub.status.idle": "2024-03-04T15:22:53.838423Z",
     "shell.execute_reply": "2024-03-04T15:22:53.837383Z"
    },
    "papermill": {
     "duration": 0.050465,
     "end_time": "2024-03-04T15:22:53.840787",
     "exception": false,
     "start_time": "2024-03-04T15:22:53.790322",
     "status": "completed"
    },
    "tags": []
   },
   "outputs": [
    {
     "data": {
      "text/html": [
       "<div>\n",
       "<style scoped>\n",
       "    .dataframe tbody tr th:only-of-type {\n",
       "        vertical-align: middle;\n",
       "    }\n",
       "\n",
       "    .dataframe tbody tr th {\n",
       "        vertical-align: top;\n",
       "    }\n",
       "\n",
       "    .dataframe thead th {\n",
       "        text-align: right;\n",
       "    }\n",
       "</style>\n",
       "<table border=\"1\" class=\"dataframe\">\n",
       "  <thead>\n",
       "    <tr style=\"text-align: right;\">\n",
       "      <th></th>\n",
       "      <th>TV</th>\n",
       "      <th>Radio</th>\n",
       "      <th>Newspaper</th>\n",
       "      <th>Sales</th>\n",
       "    </tr>\n",
       "  </thead>\n",
       "  <tbody>\n",
       "    <tr>\n",
       "      <th>0</th>\n",
       "      <td>230.1</td>\n",
       "      <td>37.8</td>\n",
       "      <td>69.2</td>\n",
       "      <td>22.1</td>\n",
       "    </tr>\n",
       "    <tr>\n",
       "      <th>1</th>\n",
       "      <td>44.5</td>\n",
       "      <td>39.3</td>\n",
       "      <td>45.1</td>\n",
       "      <td>10.4</td>\n",
       "    </tr>\n",
       "    <tr>\n",
       "      <th>2</th>\n",
       "      <td>17.2</td>\n",
       "      <td>45.9</td>\n",
       "      <td>69.3</td>\n",
       "      <td>12.0</td>\n",
       "    </tr>\n",
       "    <tr>\n",
       "      <th>3</th>\n",
       "      <td>151.5</td>\n",
       "      <td>41.3</td>\n",
       "      <td>58.5</td>\n",
       "      <td>16.5</td>\n",
       "    </tr>\n",
       "    <tr>\n",
       "      <th>4</th>\n",
       "      <td>180.8</td>\n",
       "      <td>10.8</td>\n",
       "      <td>58.4</td>\n",
       "      <td>17.9</td>\n",
       "    </tr>\n",
       "  </tbody>\n",
       "</table>\n",
       "</div>"
      ],
      "text/plain": [
       "      TV  Radio  Newspaper  Sales\n",
       "0  230.1   37.8       69.2   22.1\n",
       "1   44.5   39.3       45.1   10.4\n",
       "2   17.2   45.9       69.3   12.0\n",
       "3  151.5   41.3       58.5   16.5\n",
       "4  180.8   10.8       58.4   17.9"
      ]
     },
     "execution_count": 3,
     "metadata": {},
     "output_type": "execute_result"
    }
   ],
   "source": [
    "df = pd.read_csv(\"/kaggle/input/advertising-dataset/advertising.csv\",encoding='latin')\n",
    "df.head()"
   ]
  },
  {
   "cell_type": "code",
   "execution_count": 4,
   "id": "5dc0fad5",
   "metadata": {
    "execution": {
     "iopub.execute_input": "2024-03-04T15:22:53.865537Z",
     "iopub.status.busy": "2024-03-04T15:22:53.864906Z",
     "iopub.status.idle": "2024-03-04T15:22:53.872059Z",
     "shell.execute_reply": "2024-03-04T15:22:53.870934Z"
    },
    "papermill": {
     "duration": 0.022104,
     "end_time": "2024-03-04T15:22:53.874351",
     "exception": false,
     "start_time": "2024-03-04T15:22:53.852247",
     "status": "completed"
    },
    "tags": []
   },
   "outputs": [
    {
     "data": {
      "text/plain": [
       "(200, 4)"
      ]
     },
     "execution_count": 4,
     "metadata": {},
     "output_type": "execute_result"
    }
   ],
   "source": [
    "df.shape"
   ]
  },
  {
   "cell_type": "markdown",
   "id": "36f8019e",
   "metadata": {
    "papermill": {
     "duration": 0.011157,
     "end_time": "2024-03-04T15:22:53.897312",
     "exception": false,
     "start_time": "2024-03-04T15:22:53.886155",
     "status": "completed"
    },
    "tags": []
   },
   "source": [
    "**Understand The Dataset**"
   ]
  },
  {
   "cell_type": "code",
   "execution_count": 5,
   "id": "c2065ba2",
   "metadata": {
    "execution": {
     "iopub.execute_input": "2024-03-04T15:22:53.923309Z",
     "iopub.status.busy": "2024-03-04T15:22:53.922213Z",
     "iopub.status.idle": "2024-03-04T15:22:53.950483Z",
     "shell.execute_reply": "2024-03-04T15:22:53.949135Z"
    },
    "papermill": {
     "duration": 0.043544,
     "end_time": "2024-03-04T15:22:53.953032",
     "exception": false,
     "start_time": "2024-03-04T15:22:53.909488",
     "status": "completed"
    },
    "tags": []
   },
   "outputs": [
    {
     "name": "stdout",
     "output_type": "stream",
     "text": [
      "<class 'pandas.core.frame.DataFrame'>\n",
      "RangeIndex: 200 entries, 0 to 199\n",
      "Data columns (total 4 columns):\n",
      " #   Column     Non-Null Count  Dtype  \n",
      "---  ------     --------------  -----  \n",
      " 0   TV         200 non-null    float64\n",
      " 1   Radio      200 non-null    float64\n",
      " 2   Newspaper  200 non-null    float64\n",
      " 3   Sales      200 non-null    float64\n",
      "dtypes: float64(4)\n",
      "memory usage: 6.4 KB\n"
     ]
    }
   ],
   "source": [
    "df.info()"
   ]
  },
  {
   "cell_type": "code",
   "execution_count": 6,
   "id": "570cb940",
   "metadata": {
    "execution": {
     "iopub.execute_input": "2024-03-04T15:22:53.978617Z",
     "iopub.status.busy": "2024-03-04T15:22:53.978188Z",
     "iopub.status.idle": "2024-03-04T15:22:54.001623Z",
     "shell.execute_reply": "2024-03-04T15:22:54.000783Z"
    },
    "papermill": {
     "duration": 0.038759,
     "end_time": "2024-03-04T15:22:54.003744",
     "exception": false,
     "start_time": "2024-03-04T15:22:53.964985",
     "status": "completed"
    },
    "tags": []
   },
   "outputs": [
    {
     "data": {
      "text/html": [
       "<div>\n",
       "<style scoped>\n",
       "    .dataframe tbody tr th:only-of-type {\n",
       "        vertical-align: middle;\n",
       "    }\n",
       "\n",
       "    .dataframe tbody tr th {\n",
       "        vertical-align: top;\n",
       "    }\n",
       "\n",
       "    .dataframe thead th {\n",
       "        text-align: right;\n",
       "    }\n",
       "</style>\n",
       "<table border=\"1\" class=\"dataframe\">\n",
       "  <thead>\n",
       "    <tr style=\"text-align: right;\">\n",
       "      <th></th>\n",
       "      <th>TV</th>\n",
       "      <th>Radio</th>\n",
       "      <th>Newspaper</th>\n",
       "      <th>Sales</th>\n",
       "    </tr>\n",
       "  </thead>\n",
       "  <tbody>\n",
       "    <tr>\n",
       "      <th>count</th>\n",
       "      <td>200.000000</td>\n",
       "      <td>200.000000</td>\n",
       "      <td>200.000000</td>\n",
       "      <td>200.000000</td>\n",
       "    </tr>\n",
       "    <tr>\n",
       "      <th>mean</th>\n",
       "      <td>147.042500</td>\n",
       "      <td>23.264000</td>\n",
       "      <td>30.554000</td>\n",
       "      <td>15.130500</td>\n",
       "    </tr>\n",
       "    <tr>\n",
       "      <th>std</th>\n",
       "      <td>85.854236</td>\n",
       "      <td>14.846809</td>\n",
       "      <td>21.778621</td>\n",
       "      <td>5.283892</td>\n",
       "    </tr>\n",
       "    <tr>\n",
       "      <th>min</th>\n",
       "      <td>0.700000</td>\n",
       "      <td>0.000000</td>\n",
       "      <td>0.300000</td>\n",
       "      <td>1.600000</td>\n",
       "    </tr>\n",
       "    <tr>\n",
       "      <th>25%</th>\n",
       "      <td>74.375000</td>\n",
       "      <td>9.975000</td>\n",
       "      <td>12.750000</td>\n",
       "      <td>11.000000</td>\n",
       "    </tr>\n",
       "    <tr>\n",
       "      <th>50%</th>\n",
       "      <td>149.750000</td>\n",
       "      <td>22.900000</td>\n",
       "      <td>25.750000</td>\n",
       "      <td>16.000000</td>\n",
       "    </tr>\n",
       "    <tr>\n",
       "      <th>75%</th>\n",
       "      <td>218.825000</td>\n",
       "      <td>36.525000</td>\n",
       "      <td>45.100000</td>\n",
       "      <td>19.050000</td>\n",
       "    </tr>\n",
       "    <tr>\n",
       "      <th>max</th>\n",
       "      <td>296.400000</td>\n",
       "      <td>49.600000</td>\n",
       "      <td>114.000000</td>\n",
       "      <td>27.000000</td>\n",
       "    </tr>\n",
       "  </tbody>\n",
       "</table>\n",
       "</div>"
      ],
      "text/plain": [
       "               TV       Radio   Newspaper       Sales\n",
       "count  200.000000  200.000000  200.000000  200.000000\n",
       "mean   147.042500   23.264000   30.554000   15.130500\n",
       "std     85.854236   14.846809   21.778621    5.283892\n",
       "min      0.700000    0.000000    0.300000    1.600000\n",
       "25%     74.375000    9.975000   12.750000   11.000000\n",
       "50%    149.750000   22.900000   25.750000   16.000000\n",
       "75%    218.825000   36.525000   45.100000   19.050000\n",
       "max    296.400000   49.600000  114.000000   27.000000"
      ]
     },
     "execution_count": 6,
     "metadata": {},
     "output_type": "execute_result"
    }
   ],
   "source": [
    "df.describe()"
   ]
  },
  {
   "cell_type": "code",
   "execution_count": 7,
   "id": "c84f642c",
   "metadata": {
    "execution": {
     "iopub.execute_input": "2024-03-04T15:22:54.030218Z",
     "iopub.status.busy": "2024-03-04T15:22:54.029527Z",
     "iopub.status.idle": "2024-03-04T15:22:54.037549Z",
     "shell.execute_reply": "2024-03-04T15:22:54.036479Z"
    },
    "papermill": {
     "duration": 0.024051,
     "end_time": "2024-03-04T15:22:54.039928",
     "exception": false,
     "start_time": "2024-03-04T15:22:54.015877",
     "status": "completed"
    },
    "tags": []
   },
   "outputs": [
    {
     "data": {
      "text/plain": [
       "TV           0\n",
       "Radio        0\n",
       "Newspaper    0\n",
       "Sales        0\n",
       "dtype: int64"
      ]
     },
     "execution_count": 7,
     "metadata": {},
     "output_type": "execute_result"
    }
   ],
   "source": [
    "## Checking Null values\n",
    "df.isnull().sum()\n",
    "# There are no NULL values in the dataset, hence it is clean"
   ]
  },
  {
   "cell_type": "code",
   "execution_count": 8,
   "id": "7ca81355",
   "metadata": {
    "execution": {
     "iopub.execute_input": "2024-03-04T15:22:54.066717Z",
     "iopub.status.busy": "2024-03-04T15:22:54.066026Z",
     "iopub.status.idle": "2024-03-04T15:22:54.083011Z",
     "shell.execute_reply": "2024-03-04T15:22:54.081843Z"
    },
    "papermill": {
     "duration": 0.033061,
     "end_time": "2024-03-04T15:22:54.085386",
     "exception": false,
     "start_time": "2024-03-04T15:22:54.052325",
     "status": "completed"
    },
    "tags": []
   },
   "outputs": [
    {
     "data": {
      "text/html": [
       "<div>\n",
       "<style scoped>\n",
       "    .dataframe tbody tr th:only-of-type {\n",
       "        vertical-align: middle;\n",
       "    }\n",
       "\n",
       "    .dataframe tbody tr th {\n",
       "        vertical-align: top;\n",
       "    }\n",
       "\n",
       "    .dataframe thead th {\n",
       "        text-align: right;\n",
       "    }\n",
       "</style>\n",
       "<table border=\"1\" class=\"dataframe\">\n",
       "  <thead>\n",
       "    <tr style=\"text-align: right;\">\n",
       "      <th></th>\n",
       "      <th>TV</th>\n",
       "      <th>Sales</th>\n",
       "    </tr>\n",
       "  </thead>\n",
       "  <tbody>\n",
       "    <tr>\n",
       "      <th>0</th>\n",
       "      <td>230.1</td>\n",
       "      <td>22.1</td>\n",
       "    </tr>\n",
       "    <tr>\n",
       "      <th>1</th>\n",
       "      <td>44.5</td>\n",
       "      <td>10.4</td>\n",
       "    </tr>\n",
       "    <tr>\n",
       "      <th>2</th>\n",
       "      <td>17.2</td>\n",
       "      <td>12.0</td>\n",
       "    </tr>\n",
       "    <tr>\n",
       "      <th>3</th>\n",
       "      <td>151.5</td>\n",
       "      <td>16.5</td>\n",
       "    </tr>\n",
       "    <tr>\n",
       "      <th>4</th>\n",
       "      <td>180.8</td>\n",
       "      <td>17.9</td>\n",
       "    </tr>\n",
       "    <tr>\n",
       "      <th>...</th>\n",
       "      <td>...</td>\n",
       "      <td>...</td>\n",
       "    </tr>\n",
       "    <tr>\n",
       "      <th>195</th>\n",
       "      <td>38.2</td>\n",
       "      <td>7.6</td>\n",
       "    </tr>\n",
       "    <tr>\n",
       "      <th>196</th>\n",
       "      <td>94.2</td>\n",
       "      <td>14.0</td>\n",
       "    </tr>\n",
       "    <tr>\n",
       "      <th>197</th>\n",
       "      <td>177.0</td>\n",
       "      <td>14.8</td>\n",
       "    </tr>\n",
       "    <tr>\n",
       "      <th>198</th>\n",
       "      <td>283.6</td>\n",
       "      <td>25.5</td>\n",
       "    </tr>\n",
       "    <tr>\n",
       "      <th>199</th>\n",
       "      <td>232.1</td>\n",
       "      <td>18.4</td>\n",
       "    </tr>\n",
       "  </tbody>\n",
       "</table>\n",
       "<p>200 rows × 2 columns</p>\n",
       "</div>"
      ],
      "text/plain": [
       "        TV  Sales\n",
       "0    230.1   22.1\n",
       "1     44.5   10.4\n",
       "2     17.2   12.0\n",
       "3    151.5   16.5\n",
       "4    180.8   17.9\n",
       "..     ...    ...\n",
       "195   38.2    7.6\n",
       "196   94.2   14.0\n",
       "197  177.0   14.8\n",
       "198  283.6   25.5\n",
       "199  232.1   18.4\n",
       "\n",
       "[200 rows x 2 columns]"
      ]
     },
     "execution_count": 8,
     "metadata": {},
     "output_type": "execute_result"
    }
   ],
   "source": [
    "df = df[[\"TV\",\"Sales\"]]\n",
    "df"
   ]
  },
  {
   "cell_type": "code",
   "execution_count": 9,
   "id": "61ec2221",
   "metadata": {
    "execution": {
     "iopub.execute_input": "2024-03-04T15:22:54.112809Z",
     "iopub.status.busy": "2024-03-04T15:22:54.112053Z",
     "iopub.status.idle": "2024-03-04T15:22:54.118789Z",
     "shell.execute_reply": "2024-03-04T15:22:54.117778Z"
    },
    "papermill": {
     "duration": 0.022835,
     "end_time": "2024-03-04T15:22:54.120974",
     "exception": false,
     "start_time": "2024-03-04T15:22:54.098139",
     "status": "completed"
    },
    "tags": []
   },
   "outputs": [
    {
     "data": {
      "text/plain": [
       "(200, 2)"
      ]
     },
     "execution_count": 9,
     "metadata": {},
     "output_type": "execute_result"
    }
   ],
   "source": [
    "df.shape"
   ]
  },
  {
   "cell_type": "code",
   "execution_count": 10,
   "id": "1530d79c",
   "metadata": {
    "execution": {
     "iopub.execute_input": "2024-03-04T15:22:54.148608Z",
     "iopub.status.busy": "2024-03-04T15:22:54.147860Z",
     "iopub.status.idle": "2024-03-04T15:22:54.419614Z",
     "shell.execute_reply": "2024-03-04T15:22:54.418471Z"
    },
    "papermill": {
     "duration": 0.288585,
     "end_time": "2024-03-04T15:22:54.422326",
     "exception": false,
     "start_time": "2024-03-04T15:22:54.133741",
     "status": "completed"
    },
    "tags": []
   },
   "outputs": [
    {
     "data": {
      "image/png": "[encoded data removed]",
      "text/plain": [
       "<Figure size 640x480 with 1 Axes>"
      ]
     },
     "metadata": {},
     "output_type": "display_data"
    }
   ],
   "source": [
    "# to check the Outlier\n",
    "df.plot(kind=\"box\")\n",
    "plt.show()"
   ]
  },
  {
   "cell_type": "markdown",
   "id": "b003c890",
   "metadata": {
    "papermill": {
     "duration": 0.012493,
     "end_time": "2024-03-04T15:22:54.448178",
     "exception": false,
     "start_time": "2024-03-04T15:22:54.435685",
     "status": "completed"
    },
    "tags": []
   },
   "source": [
    "**To Find The Correlation Coefficient**"
   ]
  },
  {
   "cell_type": "code",
   "execution_count": 11,
   "id": "9f05b085",
   "metadata": {
    "execution": {
     "iopub.execute_input": "2024-03-04T15:22:54.475518Z",
     "iopub.status.busy": "2024-03-04T15:22:54.475060Z",
     "iopub.status.idle": "2024-03-04T15:22:54.486908Z",
     "shell.execute_reply": "2024-03-04T15:22:54.485804Z"
    },
    "papermill": {
     "duration": 0.02802,
     "end_time": "2024-03-04T15:22:54.489035",
     "exception": false,
     "start_time": "2024-03-04T15:22:54.461015",
     "status": "completed"
    },
    "tags": []
   },
   "outputs": [
    {
     "data": {
      "text/html": [
       "<div>\n",
       "<style scoped>\n",
       "    .dataframe tbody tr th:only-of-type {\n",
       "        vertical-align: middle;\n",
       "    }\n",
       "\n",
       "    .dataframe tbody tr th {\n",
       "        vertical-align: top;\n",
       "    }\n",
       "\n",
       "    .dataframe thead th {\n",
       "        text-align: right;\n",
       "    }\n",
       "</style>\n",
       "<table border=\"1\" class=\"dataframe\">\n",
       "  <thead>\n",
       "    <tr style=\"text-align: right;\">\n",
       "      <th></th>\n",
       "      <th>TV</th>\n",
       "      <th>Sales</th>\n",
       "    </tr>\n",
       "  </thead>\n",
       "  <tbody>\n",
       "    <tr>\n",
       "      <th>TV</th>\n",
       "      <td>1.000000</td>\n",
       "      <td>0.901208</td>\n",
       "    </tr>\n",
       "    <tr>\n",
       "      <th>Sales</th>\n",
       "      <td>0.901208</td>\n",
       "      <td>1.000000</td>\n",
       "    </tr>\n",
       "  </tbody>\n",
       "</table>\n",
       "</div>"
      ],
      "text/plain": [
       "             TV     Sales\n",
       "TV     1.000000  0.901208\n",
       "Sales  0.901208  1.000000"
      ]
     },
     "execution_count": 11,
     "metadata": {},
     "output_type": "execute_result"
    }
   ],
   "source": [
    "df.corr()"
   ]
  },
  {
   "cell_type": "code",
   "execution_count": 12,
   "id": "377eb74c",
   "metadata": {
    "execution": {
     "iopub.execute_input": "2024-03-04T15:22:54.518230Z",
     "iopub.status.busy": "2024-03-04T15:22:54.516937Z",
     "iopub.status.idle": "2024-03-04T15:22:54.523936Z",
     "shell.execute_reply": "2024-03-04T15:22:54.522836Z"
    },
    "papermill": {
     "duration": 0.023875,
     "end_time": "2024-03-04T15:22:54.526363",
     "exception": false,
     "start_time": "2024-03-04T15:22:54.502488",
     "status": "completed"
    },
    "tags": []
   },
   "outputs": [
    {
     "data": {
      "text/plain": [
       "Index(['TV', 'Sales'], dtype='object')"
      ]
     },
     "execution_count": 12,
     "metadata": {},
     "output_type": "execute_result"
    }
   ],
   "source": [
    "df.columns"
   ]
  },
  {
   "cell_type": "code",
   "execution_count": 13,
   "id": "f29b4a1a",
   "metadata": {
    "execution": {
     "iopub.execute_input": "2024-03-04T15:22:54.555315Z",
     "iopub.status.busy": "2024-03-04T15:22:54.554892Z",
     "iopub.status.idle": "2024-03-04T15:22:54.817933Z",
     "shell.execute_reply": "2024-03-04T15:22:54.816758Z"
    },
    "papermill": {
     "duration": 0.280567,
     "end_time": "2024-03-04T15:22:54.820500",
     "exception": false,
     "start_time": "2024-03-04T15:22:54.539933",
     "status": "completed"
    },
    "tags": []
   },
   "outputs": [
    {
     "data": {
      "image/png": "[encoded data removed]",
      "text/plain": [
       "<Figure size 640x480 with 1 Axes>"
      ]
     },
     "metadata": {},
     "output_type": "display_data"
    }
   ],
   "source": [
    "x = df[\"TV\"]\n",
    "y = df[\"Sales\"]\n",
    "plt.scatter(x,y)\n",
    "plt.xlabel(\"TV\")\n",
    "plt.xlabel(\"Sales\")\n",
    "plt.show()"
   ]
  },
  {
   "cell_type": "markdown",
   "id": "6d756c0b",
   "metadata": {
    "papermill": {
     "duration": 0.013695,
     "end_time": "2024-03-04T15:22:54.848103",
     "exception": false,
     "start_time": "2024-03-04T15:22:54.834408",
     "status": "completed"
    },
    "tags": []
   },
   "source": [
    "**Splitting The Dataset Into Train data and Test data**"
   ]
  },
  {
   "cell_type": "code",
   "execution_count": 14,
   "id": "f2a78b49",
   "metadata": {
    "execution": {
     "iopub.execute_input": "2024-03-04T15:22:54.877892Z",
     "iopub.status.busy": "2024-03-04T15:22:54.877439Z",
     "iopub.status.idle": "2024-03-04T15:22:54.888894Z",
     "shell.execute_reply": "2024-03-04T15:22:54.888146Z"
    },
    "papermill": {
     "duration": 0.029012,
     "end_time": "2024-03-04T15:22:54.890860",
     "exception": false,
     "start_time": "2024-03-04T15:22:54.861848",
     "status": "completed"
    },
    "tags": []
   },
   "outputs": [
    {
     "data": {
      "text/plain": [
       "152    197.6\n",
       "67     139.3\n",
       "133    219.8\n",
       "59     210.7\n",
       "63     102.7\n",
       "       ...  \n",
       "148     38.0\n",
       "137    273.7\n",
       "156     93.9\n",
       "15     195.4\n",
       "99     135.2\n",
       "Name: TV, Length: 160, dtype: float64"
      ]
     },
     "execution_count": 14,
     "metadata": {},
     "output_type": "execute_result"
    }
   ],
   "source": [
    "x_train,x_test,y_train,y_test = train_test_split(x,y,test_size = 0.2 , random_state=20)\n",
    "x_train"
   ]
  },
  {
   "cell_type": "markdown",
   "id": "57f2e08f",
   "metadata": {
    "papermill": {
     "duration": 0.014024,
     "end_time": "2024-03-04T15:22:54.918905",
     "exception": false,
     "start_time": "2024-03-04T15:22:54.904881",
     "status": "completed"
    },
    "tags": []
   },
   "source": [
    "**Changing The Input Data Into Two Dimensional Array**"
   ]
  },
  {
   "cell_type": "code",
   "execution_count": 15,
   "id": "c13e2c0f",
   "metadata": {
    "execution": {
     "iopub.execute_input": "2024-03-04T15:22:54.949297Z",
     "iopub.status.busy": "2024-03-04T15:22:54.948504Z",
     "iopub.status.idle": "2024-03-04T15:22:54.959890Z",
     "shell.execute_reply": "2024-03-04T15:22:54.958765Z"
    },
    "papermill": {
     "duration": 0.029081,
     "end_time": "2024-03-04T15:22:54.962214",
     "exception": false,
     "start_time": "2024-03-04T15:22:54.933133",
     "status": "completed"
    },
    "tags": []
   },
   "outputs": [
    {
     "data": {
      "text/plain": [
       "array([[197.6],\n",
       "       [139.3],\n",
       "       [219.8],\n",
       "       [210.7],\n",
       "       [102.7],\n",
       "       [253.8],\n",
       "       [222.4],\n",
       "       [224. ],\n",
       "       [241.7],\n",
       "       [  0.7],\n",
       "       [ 23.8],\n",
       "       [ 59.6],\n",
       "       [100.4],\n",
       "       [171.3],\n",
       "       [ 88.3],\n",
       "       [ 44.5],\n",
       "       [198.9],\n",
       "       [ 76.4],\n",
       "       [ 11.7],\n",
       "       [131.1],\n",
       "       [ 36.9],\n",
       "       [239.3],\n",
       "       [218.4],\n",
       "       [237.4],\n",
       "       [175.1],\n",
       "       [220.3],\n",
       "       [217.7],\n",
       "       [ 75.5],\n",
       "       [ 70.6],\n",
       "       [134.3],\n",
       "       [290.7],\n",
       "       [ 90.4],\n",
       "       [ 28.6],\n",
       "       [238.2],\n",
       "       [234.5],\n",
       "       [237.4],\n",
       "       [ 74.7],\n",
       "       [289.7],\n",
       "       [230.1],\n",
       "       [177. ],\n",
       "       [214.7],\n",
       "       [ 48.3],\n",
       "       [ 66.9],\n",
       "       [292.9],\n",
       "       [ 69. ],\n",
       "       [283.6],\n",
       "       [ 31.5],\n",
       "       [187.9],\n",
       "       [177. ],\n",
       "       [165.6],\n",
       "       [ 76.4],\n",
       "       [136.2],\n",
       "       [ 17.2],\n",
       "       [216.8],\n",
       "       [213.4],\n",
       "       [199.8],\n",
       "       [ 13.1],\n",
       "       [117.2],\n",
       "       [210.8],\n",
       "       [222.4],\n",
       "       [  7.3],\n",
       "       [112.9],\n",
       "       [204.1],\n",
       "       [141.3],\n",
       "       [110.7],\n",
       "       [228. ],\n",
       "       [ 25. ],\n",
       "       [280.2],\n",
       "       [121. ],\n",
       "       [129.4],\n",
       "       [239.8],\n",
       "       [262.7],\n",
       "       [229.5],\n",
       "       [ 73.4],\n",
       "       [ 27.5],\n",
       "       [197.6],\n",
       "       [216.4],\n",
       "       [228.3],\n",
       "       [ 19.4],\n",
       "       [  8.4],\n",
       "       [199.8],\n",
       "       [ 43.1],\n",
       "       [168.4],\n",
       "       [182.6],\n",
       "       [163.3],\n",
       "       [ 87.2],\n",
       "       [227.2],\n",
       "       [139.2],\n",
       "       [147.3],\n",
       "       [266.9],\n",
       "       [ 80.2],\n",
       "       [123.1],\n",
       "       [ 53.5],\n",
       "       [187.8],\n",
       "       [156.6],\n",
       "       [ 18.7],\n",
       "       [281.4],\n",
       "       [ 78.2],\n",
       "       [ 43. ],\n",
       "       [ 75.1],\n",
       "       [131.7],\n",
       "       [ 75.3],\n",
       "       [218.5],\n",
       "       [172.5],\n",
       "       [  8.6],\n",
       "       [163.5],\n",
       "       [240.1],\n",
       "       [180.8],\n",
       "       [220.5],\n",
       "       [166.8],\n",
       "       [199.1],\n",
       "       [ 85.7],\n",
       "       [284.3],\n",
       "       [107.4],\n",
       "       [293.6],\n",
       "       [265.6],\n",
       "       [250.9],\n",
       "       [240.1],\n",
       "       [ 62.3],\n",
       "       [  5.4],\n",
       "       [ 19.6],\n",
       "       [149.8],\n",
       "       [ 39.5],\n",
       "       [164.5],\n",
       "       [116. ],\n",
       "       [ 50. ],\n",
       "       [139.5],\n",
       "       [206.9],\n",
       "       [140.3],\n",
       "       [151.5],\n",
       "       [ 69.2],\n",
       "       [149.7],\n",
       "       [ 56.2],\n",
       "       [ 66.1],\n",
       "       [ 97.2],\n",
       "       [225.8],\n",
       "       [ 68.4],\n",
       "       [261.3],\n",
       "       [265.2],\n",
       "       [262.9],\n",
       "       [193.7],\n",
       "       [286. ],\n",
       "       [ 57.5],\n",
       "       [120.2],\n",
       "       [296.4],\n",
       "       [137.9],\n",
       "       [ 96.2],\n",
       "       [ 67.8],\n",
       "       [142.9],\n",
       "       [202.5],\n",
       "       [125.7],\n",
       "       [188.4],\n",
       "       [109.8],\n",
       "       [ 13.2],\n",
       "       [ 16.9],\n",
       "       [ 38. ],\n",
       "       [273.7],\n",
       "       [ 93.9],\n",
       "       [195.4],\n",
       "       [135.2]])"
      ]
     },
     "execution_count": 15,
     "metadata": {},
     "output_type": "execute_result"
    }
   ],
   "source": [
    "x_train = np.array(x_train).reshape(-1,1)\n",
    "x_train"
   ]
  },
  {
   "cell_type": "code",
   "execution_count": 16,
   "id": "0b4e0dfa",
   "metadata": {
    "execution": {
     "iopub.execute_input": "2024-03-04T15:22:54.993044Z",
     "iopub.status.busy": "2024-03-04T15:22:54.992165Z",
     "iopub.status.idle": "2024-03-04T15:22:55.000221Z",
     "shell.execute_reply": "2024-03-04T15:22:54.999262Z"
    },
    "papermill": {
     "duration": 0.02614,
     "end_time": "2024-03-04T15:22:55.002797",
     "exception": false,
     "start_time": "2024-03-04T15:22:54.976657",
     "status": "completed"
    },
    "tags": []
   },
   "outputs": [
    {
     "data": {
      "text/plain": [
       "array([[280.7],\n",
       "       [248.8],\n",
       "       [ 97.5],\n",
       "       [276.7],\n",
       "       [255.4],\n",
       "       [215.4],\n",
       "       [170.2],\n",
       "       [ 94.2],\n",
       "       [239.9],\n",
       "       [ 38.2],\n",
       "       [ 25.6],\n",
       "       [120.5],\n",
       "       [191.1],\n",
       "       [ 17.9],\n",
       "       [213.5],\n",
       "       [276.9],\n",
       "       [  4.1],\n",
       "       [206.8],\n",
       "       [ 18.8],\n",
       "       [ 17.2],\n",
       "       [248.4],\n",
       "       [209.6],\n",
       "       [109.8],\n",
       "       [243.2],\n",
       "       [205. ],\n",
       "       [104.6],\n",
       "       [232.1],\n",
       "       [  7.8],\n",
       "       [  8.7],\n",
       "       [184.9],\n",
       "       [ 95.7],\n",
       "       [184.9],\n",
       "       [ 25.1],\n",
       "       [ 26.8],\n",
       "       [287.6],\n",
       "       [193.2],\n",
       "       [ 44.7],\n",
       "       [ 89.7],\n",
       "       [ 76.3],\n",
       "       [175.7]])"
      ]
     },
     "execution_count": 16,
     "metadata": {},
     "output_type": "execute_result"
    }
   ],
   "source": [
    "x_test = np.array(x_test).reshape(-1,1)\n",
    "x_test"
   ]
  },
  {
   "cell_type": "markdown",
   "id": "65576eb8",
   "metadata": {
    "papermill": {
     "duration": 0.014084,
     "end_time": "2024-03-04T15:22:55.031324",
     "exception": false,
     "start_time": "2024-03-04T15:22:55.017240",
     "status": "completed"
    },
    "tags": []
   },
   "source": [
    "**To Implement The Linear Regression**"
   ]
  },
  {
   "cell_type": "code",
   "execution_count": 17,
   "id": "479bed32",
   "metadata": {
    "execution": {
     "iopub.execute_input": "2024-03-04T15:22:55.061955Z",
     "iopub.status.busy": "2024-03-04T15:22:55.061565Z",
     "iopub.status.idle": "2024-03-04T15:22:55.084712Z",
     "shell.execute_reply": "2024-03-04T15:22:55.083769Z"
    },
    "papermill": {
     "duration": 0.04126,
     "end_time": "2024-03-04T15:22:55.087068",
     "exception": false,
     "start_time": "2024-03-04T15:22:55.045808",
     "status": "completed"
    },
    "tags": []
   },
   "outputs": [
    {
     "data": {
      "text/html": [
       "<style>#sk-container-id-1 {color: black;background-color: white;}#sk-container-id-1 pre{padding: 0;}#sk-container-id-1 div.sk-toggleable {background-color: white;}#sk-container-id-1 label.sk-toggleable__label {cursor: pointer;display: block;width: 100%;margin-bottom: 0;padding: 0.3em;box-sizing: border-box;text-align: center;}#sk-container-id-1 label.sk-toggleable__label-arrow:before {content: \"▸\";float: left;margin-right: 0.25em;color: #696969;}#sk-container-id-1 label.sk-toggleable__label-arrow:hover:before {color: black;}#sk-container-id-1 div.sk-estimator:hover label.sk-toggleable__label-arrow:before {color: black;}#sk-container-id-1 div.sk-toggleable__content {max-height: 0;max-width: 0;overflow: hidden;text-align: left;background-color: #f0f8ff;}#sk-container-id-1 div.sk-toggleable__content pre {margin: 0.2em;color: black;border-radius: 0.25em;background-color: #f0f8ff;}#sk-container-id-1 input.sk-toggleable__control:checked~div.sk-toggleable__content {max-height: 200px;max-width: 100%;overflow: auto;}#sk-container-id-1 input.sk-toggleable__control:checked~label.sk-toggleable__label-arrow:before {content: \"▾\";}#sk-container-id-1 div.sk-estimator input.sk-toggleable__control:checked~label.sk-toggleable__label {background-color: #d4ebff;}#sk-container-id-1 div.sk-label input.sk-toggleable__control:checked~label.sk-toggleable__label {background-color: #d4ebff;}#sk-container-id-1 input.sk-hidden--visually {border: 0;clip: rect(1px 1px 1px 1px);clip: rect(1px, 1px, 1px, 1px);height: 1px;margin: -1px;overflow: hidden;padding: 0;position: absolute;width: 1px;}#sk-container-id-1 div.sk-estimator {font-family: monospace;background-color: #f0f8ff;border: 1px dotted black;border-radius: 0.25em;box-sizing: border-box;margin-bottom: 0.5em;}#sk-container-id-1 div.sk-estimator:hover {background-color: #d4ebff;}#sk-container-id-1 div.sk-parallel-item::after {content: \"\";width: 100%;border-bottom: 1px solid gray;flex-grow: 1;}#sk-container-id-1 div.sk-label:hover label.sk-toggleable__label {background-color: #d4ebff;}#sk-container-id-1 div.sk-serial::before {content: \"\";position: absolute;border-left: 1px solid gray;box-sizing: border-box;top: 0;bottom: 0;left: 50%;z-index: 0;}#sk-container-id-1 div.sk-serial {display: flex;flex-direction: column;align-items: center;background-color: white;padding-right: 0.2em;padding-left: 0.2em;position: relative;}#sk-container-id-1 div.sk-item {position: relative;z-index: 1;}#sk-container-id-1 div.sk-parallel {display: flex;align-items: stretch;justify-content: center;background-color: white;position: relative;}#sk-container-id-1 div.sk-item::before, #sk-container-id-1 div.sk-parallel-item::before {content: \"\";position: absolute;border-left: 1px solid gray;box-sizing: border-box;top: 0;bottom: 0;left: 50%;z-index: -1;}#sk-container-id-1 div.sk-parallel-item {display: flex;flex-direction: column;z-index: 1;position: relative;background-color: white;}#sk-container-id-1 div.sk-parallel-item:first-child::after {align-self: flex-end;width: 50%;}#sk-container-id-1 div.sk-parallel-item:last-child::after {align-self: flex-start;width: 50%;}#sk-container-id-1 div.sk-parallel-item:only-child::after {width: 0;}#sk-container-id-1 div.sk-dashed-wrapped {border: 1px dashed gray;margin: 0 0.4em 0.5em 0.4em;box-sizing: border-box;padding-bottom: 0.4em;background-color: white;}#sk-container-id-1 div.sk-label label {font-family: monospace;font-weight: bold;display: inline-block;line-height: 1.2em;}#sk-container-id-1 div.sk-label-container {text-align: center;}#sk-container-id-1 div.sk-container {/* jupyter's `normalize.less` sets `[hidden] { display: none; }` but bootstrap.min.css set `[hidden] { display: none !important; }` so we also need the `!important` here to be able to override the default hidden behavior on the sphinx rendered scikit-learn.org. See: https://github.com/scikit-learn/scikit-learn/issues/21755 */display: inline-block !important;position: relative;}#sk-container-id-1 div.sk-text-repr-fallback {display: none;}</style><div id=\"sk-container-id-1\" class=\"sk-top-container\"><div class=\"sk-text-repr-fallback\"><pre>LinearRegression()</pre><b>In a Jupyter environment, please rerun this cell to show the HTML representation or trust the notebook. <br />On GitHub, the HTML representation is unable to render, please try loading this page with nbviewer.org.</b></div><div class=\"sk-container\" hidden><div class=\"sk-item\"><div class=\"sk-estimator sk-toggleable\"><input class=\"sk-toggleable__control sk-hidden--visually\" id=\"sk-estimator-id-1\" type=\"checkbox\" checked><label for=\"sk-estimator-id-1\" class=\"sk-toggleable__label sk-toggleable__label-arrow\">LinearRegression</label><div class=\"sk-toggleable__content\"><pre>LinearRegression()</pre></div></div></div></div></div>"
      ],
      "text/plain": [
       "LinearRegression()"
      ]
     },
     "execution_count": 17,
     "metadata": {},
     "output_type": "execute_result"
    }
   ],
   "source": [
    "lr= LinearRegression()\n",
    "lr.fit(x_train,y_train)"
   ]
  },
  {
   "cell_type": "code",
   "execution_count": 18,
   "id": "e292f1a9",
   "metadata": {
    "execution": {
     "iopub.execute_input": "2024-03-04T15:22:55.120051Z",
     "iopub.status.busy": "2024-03-04T15:22:55.118969Z",
     "iopub.status.idle": "2024-03-04T15:22:55.126191Z",
     "shell.execute_reply": "2024-03-04T15:22:55.125275Z"
    },
    "papermill": {
     "duration": 0.026057,
     "end_time": "2024-03-04T15:22:55.128219",
     "exception": false,
     "start_time": "2024-03-04T15:22:55.102162",
     "status": "completed"
    },
    "tags": []
   },
   "outputs": [
    {
     "data": {
      "text/plain": [
       "7.079222818073074"
      ]
     },
     "execution_count": 18,
     "metadata": {},
     "output_type": "execute_result"
    }
   ],
   "source": [
    "#To find the intercept\n",
    "c = lr.intercept_\n",
    "c"
   ]
  },
  {
   "cell_type": "code",
   "execution_count": 19,
   "id": "d7af0f9f",
   "metadata": {
    "execution": {
     "iopub.execute_input": "2024-03-04T15:22:55.160201Z",
     "iopub.status.busy": "2024-03-04T15:22:55.159453Z",
     "iopub.status.idle": "2024-03-04T15:22:55.165780Z",
     "shell.execute_reply": "2024-03-04T15:22:55.164667Z"
    },
    "papermill": {
     "duration": 0.024892,
     "end_time": "2024-03-04T15:22:55.168074",
     "exception": false,
     "start_time": "2024-03-04T15:22:55.143182",
     "status": "completed"
    },
    "tags": []
   },
   "outputs": [
    {
     "data": {
      "text/plain": [
       "array([0.05428243])"
      ]
     },
     "execution_count": 19,
     "metadata": {},
     "output_type": "execute_result"
    }
   ],
   "source": [
    "#To find the coefficient\n",
    "m=lr.coef_\n",
    "m"
   ]
  },
  {
   "cell_type": "markdown",
   "id": "f50674fd",
   "metadata": {
    "papermill": {
     "duration": 0.01563,
     "end_time": "2024-03-04T15:22:55.198847",
     "exception": false,
     "start_time": "2024-03-04T15:22:55.183217",
     "status": "completed"
    },
    "tags": []
   },
   "source": [
    "**To predict the Simple Linear Regression**"
   ]
  },
  {
   "cell_type": "code",
   "execution_count": 20,
   "id": "4ea93de6",
   "metadata": {
    "execution": {
     "iopub.execute_input": "2024-03-04T15:22:55.230463Z",
     "iopub.status.busy": "2024-03-04T15:22:55.229684Z",
     "iopub.status.idle": "2024-03-04T15:22:55.239041Z",
     "shell.execute_reply": "2024-03-04T15:22:55.237820Z"
    },
    "papermill": {
     "duration": 0.028098,
     "end_time": "2024-03-04T15:22:55.241805",
     "exception": false,
     "start_time": "2024-03-04T15:22:55.213707",
     "status": "completed"
    },
    "tags": []
   },
   "outputs": [
    {
     "data": {
      "text/plain": [
       "array([17.80543104, 14.64076536, 19.010501  , 18.51653088, 12.65402841,\n",
       "       20.85610363, 19.15163532, 19.2384872 , 20.19928622,  7.11722052,\n",
       "        8.37114466, 10.31445566, 12.52917882, 16.37780313, 11.87236141,\n",
       "        9.49479097, 17.8759982 , 11.22640049,  7.71432725, 14.19564943,\n",
       "        9.0822445 , 20.06900839, 18.93450559, 19.96587177, 16.58407636,\n",
       "       19.03764221, 18.89650789, 11.17754631, 10.9115624 , 14.36935321,\n",
       "       22.85912531, 11.98635452,  8.63170032, 20.00929771, 19.80845272,\n",
       "       19.96587177, 11.13412036, 22.80484288, 19.56961003, 16.68721298,\n",
       "       18.7336606 ,  9.7010642 , 10.7107174 , 22.97854665, 10.82471051,\n",
       "       22.47372005,  8.78911937, 17.27889147, 16.68721298, 16.06839328,\n",
       "       11.22640049, 14.47248982,  8.01288062, 18.84765371, 18.66309344,\n",
       "       17.92485239,  7.79032265, 13.44112365, 18.52195912, 19.15163532,\n",
       "        7.47548456, 13.2077092 , 18.15826684, 14.74933022, 13.08828785,\n",
       "       19.45561693,  8.43628358, 22.28915979, 13.64739688, 14.1033693 ,\n",
       "       20.0961496 , 21.33921726, 19.53704057, 11.0635532 ,  8.57198965,\n",
       "       17.80543104, 18.82594073, 19.47190165,  8.13230197,  7.53519523,\n",
       "       17.92485239,  9.41879556, 16.22038408, 16.99119459, 15.94354369,\n",
       "       11.81265074, 19.41219098, 14.63533712, 15.0750248 , 21.56720346,\n",
       "       11.43267373, 13.76138999,  9.98333284, 17.27346323, 15.5798514 ,\n",
       "        8.09430426, 22.3542987 , 11.32410887,  9.41336732, 11.15583333,\n",
       "       14.22821889, 11.16668982, 18.93993384, 16.44294204,  7.54605172,\n",
       "       15.95440017, 20.11243433, 16.89348622, 19.0484987 , 16.13353219,\n",
       "       17.88685469, 11.73122709, 22.51171775, 12.90915583, 23.01654435,\n",
       "       21.49663631, 20.69868458, 20.11243433, 10.46101823,  7.37234794,\n",
       "        8.14315845, 15.21073088,  9.22337881, 16.0086826 , 13.37598473,\n",
       "        9.79334433, 14.65162184, 18.31025765, 14.69504779, 15.30301101,\n",
       "       10.83556699, 15.20530263, 10.1298954 , 10.66729146, 12.35547504,\n",
       "       19.33619558, 10.79214105, 21.26322185, 21.47492333, 21.35007374,\n",
       "       17.59372957, 22.60399788, 10.20046256, 13.60397094, 23.16853516,\n",
       "       14.56476996, 12.30119261, 10.75957159, 14.83618211, 18.07141495,\n",
       "       13.90252431, 17.30603269, 13.03943366,  7.7957509 ,  7.99659589,\n",
       "        9.14195517, 21.93632399, 12.17634302, 17.6860097 , 14.41820739])"
      ]
     },
     "execution_count": 20,
     "metadata": {},
     "output_type": "execute_result"
    }
   ],
   "source": [
    "y_train_predict = lr.predict(x_train)\n",
    "y_train_predict"
   ]
  },
  {
   "cell_type": "code",
   "execution_count": 21,
   "id": "bdea6962",
   "metadata": {
    "execution": {
     "iopub.execute_input": "2024-03-04T15:22:55.274778Z",
     "iopub.status.busy": "2024-03-04T15:22:55.274385Z",
     "iopub.status.idle": "2024-03-04T15:22:55.530611Z",
     "shell.execute_reply": "2024-03-04T15:22:55.529801Z"
    },
    "papermill": {
     "duration": 0.274997,
     "end_time": "2024-03-04T15:22:55.532645",
     "exception": false,
     "start_time": "2024-03-04T15:22:55.257648",
     "status": "completed"
    },
    "tags": []
   },
   "outputs": [
    {
     "data": {
      "image/png": "[encoded data removed]",
      "text/plain": [
       "<Figure size 640x480 with 1 Axes>"
      ]
     },
     "metadata": {},
     "output_type": "display_data"
    }
   ],
   "source": [
    "plt.scatter(x_train,y_train)\n",
    "plt.xlabel(\"TV\")\n",
    "plt.ylabel(\"Sales\")\n",
    "plt.show()"
   ]
  },
  {
   "cell_type": "code",
   "execution_count": 22,
   "id": "8d97c3a2",
   "metadata": {
    "execution": {
     "iopub.execute_input": "2024-03-04T15:22:55.565432Z",
     "iopub.status.busy": "2024-03-04T15:22:55.564771Z",
     "iopub.status.idle": "2024-03-04T15:22:55.823232Z",
     "shell.execute_reply": "2024-03-04T15:22:55.821830Z"
    },
    "papermill": {
     "duration": 0.277484,
     "end_time": "2024-03-04T15:22:55.825639",
     "exception": false,
     "start_time": "2024-03-04T15:22:55.548155",
     "status": "completed"
    },
    "tags": []
   },
   "outputs": [
    {
     "data": {
      "image/png": "[encoded data removed]",
      "text/plain": [
       "<Figure size 640x480 with 1 Axes>"
      ]
     },
     "metadata": {},
     "output_type": "display_data"
    }
   ],
   "source": [
    "plt.scatter(x_train,y_train)\n",
    "plt.scatter(x_train,y_train_predict)\n",
    "plt.xlabel(\"TV\")\n",
    "plt.ylabel(\"Sales\")\n",
    "plt.show()"
   ]
  },
  {
   "cell_type": "code",
   "execution_count": 23,
   "id": "1c764400",
   "metadata": {
    "execution": {
     "iopub.execute_input": "2024-03-04T15:22:55.861683Z",
     "iopub.status.busy": "2024-03-04T15:22:55.861265Z",
     "iopub.status.idle": "2024-03-04T15:22:56.134197Z",
     "shell.execute_reply": "2024-03-04T15:22:56.132862Z"
    },
    "papermill": {
     "duration": 0.293959,
     "end_time": "2024-03-04T15:22:56.136899",
     "exception": false,
     "start_time": "2024-03-04T15:22:55.842940",
     "status": "completed"
    },
    "tags": []
   },
   "outputs": [
    {
     "data": {
      "image/png": "[encoded data removed]",
      "text/plain": [
       "<Figure size 640x480 with 1 Axes>"
      ]
     },
     "metadata": {},
     "output_type": "display_data"
    }
   ],
   "source": [
    "plt.scatter(x_train,y_train)\n",
    "plt.scatter(x_train,y_train_predict)\n",
    "plt.plot(x_train,y_train_predict,color=\"black\")\n",
    "plt.xlabel(\"TV\")\n",
    "plt.ylabel(\"Sales\")\n",
    "plt.show()"
   ]
  },
  {
   "cell_type": "markdown",
   "id": "fd672dfe",
   "metadata": {
    "papermill": {
     "duration": 0.021586,
     "end_time": "2024-03-04T15:22:56.175975",
     "exception": false,
     "start_time": "2024-03-04T15:22:56.154389",
     "status": "completed"
    },
    "tags": []
   },
   "source": [
    "**To Predict The Test data**"
   ]
  },
  {
   "cell_type": "code",
   "execution_count": 24,
   "id": "83b465c6",
   "metadata": {
    "execution": {
     "iopub.execute_input": "2024-03-04T15:22:56.216196Z",
     "iopub.status.busy": "2024-03-04T15:22:56.215752Z",
     "iopub.status.idle": "2024-03-04T15:22:56.230397Z",
     "shell.execute_reply": "2024-03-04T15:22:56.229188Z"
    },
    "papermill": {
     "duration": 0.038134,
     "end_time": "2024-03-04T15:22:56.232784",
     "exception": false,
     "start_time": "2024-03-04T15:22:56.194650",
     "status": "completed"
    },
    "tags": []
   },
   "outputs": [
    {
     "data": {
      "text/html": [
       "<div>\n",
       "<style scoped>\n",
       "    .dataframe tbody tr th:only-of-type {\n",
       "        vertical-align: middle;\n",
       "    }\n",
       "\n",
       "    .dataframe tbody tr th {\n",
       "        vertical-align: top;\n",
       "    }\n",
       "\n",
       "    .dataframe thead th {\n",
       "        text-align: right;\n",
       "    }\n",
       "</style>\n",
       "<table border=\"1\" class=\"dataframe\">\n",
       "  <thead>\n",
       "    <tr style=\"text-align: right;\">\n",
       "      <th></th>\n",
       "      <th>TV</th>\n",
       "      <th>Sales</th>\n",
       "    </tr>\n",
       "  </thead>\n",
       "  <tbody>\n",
       "    <tr>\n",
       "      <th>0</th>\n",
       "      <td>230.1</td>\n",
       "      <td>22.1</td>\n",
       "    </tr>\n",
       "    <tr>\n",
       "      <th>1</th>\n",
       "      <td>44.5</td>\n",
       "      <td>10.4</td>\n",
       "    </tr>\n",
       "    <tr>\n",
       "      <th>2</th>\n",
       "      <td>17.2</td>\n",
       "      <td>12.0</td>\n",
       "    </tr>\n",
       "    <tr>\n",
       "      <th>3</th>\n",
       "      <td>151.5</td>\n",
       "      <td>16.5</td>\n",
       "    </tr>\n",
       "    <tr>\n",
       "      <th>4</th>\n",
       "      <td>180.8</td>\n",
       "      <td>17.9</td>\n",
       "    </tr>\n",
       "    <tr>\n",
       "      <th>...</th>\n",
       "      <td>...</td>\n",
       "      <td>...</td>\n",
       "    </tr>\n",
       "    <tr>\n",
       "      <th>195</th>\n",
       "      <td>38.2</td>\n",
       "      <td>7.6</td>\n",
       "    </tr>\n",
       "    <tr>\n",
       "      <th>196</th>\n",
       "      <td>94.2</td>\n",
       "      <td>14.0</td>\n",
       "    </tr>\n",
       "    <tr>\n",
       "      <th>197</th>\n",
       "      <td>177.0</td>\n",
       "      <td>14.8</td>\n",
       "    </tr>\n",
       "    <tr>\n",
       "      <th>198</th>\n",
       "      <td>283.6</td>\n",
       "      <td>25.5</td>\n",
       "    </tr>\n",
       "    <tr>\n",
       "      <th>199</th>\n",
       "      <td>232.1</td>\n",
       "      <td>18.4</td>\n",
       "    </tr>\n",
       "  </tbody>\n",
       "</table>\n",
       "<p>200 rows × 2 columns</p>\n",
       "</div>"
      ],
      "text/plain": [
       "        TV  Sales\n",
       "0    230.1   22.1\n",
       "1     44.5   10.4\n",
       "2     17.2   12.0\n",
       "3    151.5   16.5\n",
       "4    180.8   17.9\n",
       "..     ...    ...\n",
       "195   38.2    7.6\n",
       "196   94.2   14.0\n",
       "197  177.0   14.8\n",
       "198  283.6   25.5\n",
       "199  232.1   18.4\n",
       "\n",
       "[200 rows x 2 columns]"
      ]
     },
     "execution_count": 24,
     "metadata": {},
     "output_type": "execute_result"
    }
   ],
   "source": [
    "df"
   ]
  },
  {
   "cell_type": "code",
   "execution_count": 25,
   "id": "43b2d2b1",
   "metadata": {
    "execution": {
     "iopub.execute_input": "2024-03-04T15:22:56.269926Z",
     "iopub.status.busy": "2024-03-04T15:22:56.269264Z",
     "iopub.status.idle": "2024-03-04T15:22:56.276987Z",
     "shell.execute_reply": "2024-03-04T15:22:56.275843Z"
    },
    "papermill": {
     "duration": 0.028739,
     "end_time": "2024-03-04T15:22:56.279154",
     "exception": false,
     "start_time": "2024-03-04T15:22:56.250415",
     "status": "completed"
    },
    "tags": []
   },
   "outputs": [
    {
     "data": {
      "text/plain": [
       "array([[280.7],\n",
       "       [248.8],\n",
       "       [ 97.5],\n",
       "       [276.7],\n",
       "       [255.4],\n",
       "       [215.4],\n",
       "       [170.2],\n",
       "       [ 94.2],\n",
       "       [239.9],\n",
       "       [ 38.2],\n",
       "       [ 25.6],\n",
       "       [120.5],\n",
       "       [191.1],\n",
       "       [ 17.9],\n",
       "       [213.5],\n",
       "       [276.9],\n",
       "       [  4.1],\n",
       "       [206.8],\n",
       "       [ 18.8],\n",
       "       [ 17.2],\n",
       "       [248.4],\n",
       "       [209.6],\n",
       "       [109.8],\n",
       "       [243.2],\n",
       "       [205. ],\n",
       "       [104.6],\n",
       "       [232.1],\n",
       "       [  7.8],\n",
       "       [  8.7],\n",
       "       [184.9],\n",
       "       [ 95.7],\n",
       "       [184.9],\n",
       "       [ 25.1],\n",
       "       [ 26.8],\n",
       "       [287.6],\n",
       "       [193.2],\n",
       "       [ 44.7],\n",
       "       [ 89.7],\n",
       "       [ 76.3],\n",
       "       [175.7]])"
      ]
     },
     "execution_count": 25,
     "metadata": {},
     "output_type": "execute_result"
    }
   ],
   "source": [
    "x_test"
   ]
  },
  {
   "cell_type": "code",
   "execution_count": 26,
   "id": "419c6e15",
   "metadata": {
    "execution": {
     "iopub.execute_input": "2024-03-04T15:22:56.320999Z",
     "iopub.status.busy": "2024-03-04T15:22:56.320468Z",
     "iopub.status.idle": "2024-03-04T15:22:56.332457Z",
     "shell.execute_reply": "2024-03-04T15:22:56.331508Z"
    },
    "papermill": {
     "duration": 0.040665,
     "end_time": "2024-03-04T15:22:56.338502",
     "exception": false,
     "start_time": "2024-03-04T15:22:56.297837",
     "status": "completed"
    },
    "tags": []
   },
   "outputs": [
    {
     "data": {
      "text/plain": [
       "array([8.01288062])"
      ]
     },
     "execution_count": 26,
     "metadata": {},
     "output_type": "execute_result"
    }
   ],
   "source": [
    "y_predict_test = lr.predict([[17.2]])\n",
    "y_predict_test"
   ]
  },
  {
   "cell_type": "code",
   "execution_count": 27,
   "id": "afdff82d",
   "metadata": {
    "execution": {
     "iopub.execute_input": "2024-03-04T15:22:56.388994Z",
     "iopub.status.busy": "2024-03-04T15:22:56.387853Z",
     "iopub.status.idle": "2024-03-04T15:22:56.402893Z",
     "shell.execute_reply": "2024-03-04T15:22:56.401496Z"
    },
    "papermill": {
     "duration": 0.04646,
     "end_time": "2024-03-04T15:22:56.406192",
     "exception": false,
     "start_time": "2024-03-04T15:22:56.359732",
     "status": "completed"
    },
    "tags": []
   },
   "outputs": [
    {
     "data": {
      "text/plain": [
       "array([22.316301  , 20.58469148, 12.37175977, 22.09917128, 20.94295552,\n",
       "       18.7716583 , 16.31809245, 12.19262775, 20.10157785,  9.15281166,\n",
       "        8.46885303, 13.62025567, 17.45259525,  8.05087832, 18.66852169,\n",
       "       22.11002777,  7.30178078, 18.3048294 ,  8.09973251,  8.01288062,\n",
       "       20.5629785 , 18.45682021, 13.03943366, 20.28070987, 18.20712103,\n",
       "       12.75716503, 19.67817489,  7.50262577,  7.55147996, 17.11604418,\n",
       "       12.2740514 , 17.11604418,  8.44171182,  8.53399195, 22.69084977,\n",
       "       17.56658835,  9.50564745, 11.94835682, 11.22097225, 16.61664582])"
      ]
     },
     "execution_count": 27,
     "metadata": {},
     "output_type": "execute_result"
    }
   ],
   "source": [
    "y_predict_test = lr.predict(x_test)\n",
    "y_predict_test"
   ]
  },
  {
   "cell_type": "code",
   "execution_count": 28,
   "id": "66005a28",
   "metadata": {
    "execution": {
     "iopub.execute_input": "2024-03-04T15:22:56.509851Z",
     "iopub.status.busy": "2024-03-04T15:22:56.508562Z",
     "iopub.status.idle": "2024-03-04T15:22:56.776988Z",
     "shell.execute_reply": "2024-03-04T15:22:56.775773Z"
    },
    "papermill": {
     "duration": 0.35023,
     "end_time": "2024-03-04T15:22:56.779487",
     "exception": false,
     "start_time": "2024-03-04T15:22:56.429257",
     "status": "completed"
    },
    "tags": []
   },
   "outputs": [
    {
     "data": {
      "image/png": "[encoded data removed]",
      "text/plain": [
       "<Figure size 640x480 with 1 Axes>"
      ]
     },
     "metadata": {},
     "output_type": "display_data"
    }
   ],
   "source": [
    "#Hence the fully trained model is repesenting predictive results in graph form\n",
    "plt.scatter(x_test,y_test)\n",
    "plt.scatter(x_test,y_predict_test)\n",
    "plt.plot(x_test,y_predict_test,color=\"purple\")\n",
    "plt.xlabel(\"TV\")\n",
    "plt.ylabel(\"Sales\")\n",
    "plt.show()"
   ]
  },
  {
   "cell_type": "markdown",
   "id": "6d7419ea",
   "metadata": {
    "papermill": {
     "duration": 0.017967,
     "end_time": "2024-03-04T15:22:56.815746",
     "exception": false,
     "start_time": "2024-03-04T15:22:56.797779",
     "status": "completed"
    },
    "tags": []
   },
   "source": [
    "**Thank You**"
   ]
  }
 ],
 "metadata": {
  "kaggle": {
   "accelerator": "none",
   "dataSources": [
    {
     "datasetId": 133357,
     "sourceId": 317184,
     "sourceType": "datasetVersion"
    }
   ],
   "dockerImageVersionId": 30664,
   "isGpuEnabled": false,
   "isInternetEnabled": false,
   "language": "python",
   "sourceType": "notebook"
  },
  "kernelspec": {
   "display_name": "Python 3",
   "language": "python",
   "name": "python3"
  },
  "language_info": {
   "codemirror_mode": {
    "name": "ipython",
    "version": 3
   },
   "file_extension": ".py",
   "mimetype": "text/x-python",
   "name": "python",
   "nbconvert_exporter": "python",
   "pygments_lexer": "ipython3",
   "version": "3.10.13"
  },
  "papermill": {
   "default_parameters": {},
   "duration": 9.72815,
   "end_time": "2024-03-04T15:22:57.456151",
   "environment_variables": {},
   "exception": null,
   "input_path": "__notebook__.ipynb",
   "output_path": "__notebook__.ipynb",
   "parameters": {},
   "start_time": "2024-03-04T15:22:47.728001",
   "version": "2.5.0"
  }
 },
 "nbformat": 4,
 "nbformat_minor": 5
}
